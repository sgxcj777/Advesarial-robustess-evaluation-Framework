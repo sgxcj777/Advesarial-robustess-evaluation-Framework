{
 "cells": [
  {
   "cell_type": "markdown",
   "metadata": {},
   "source": [
    "# Blackbox testing of robustness against BoundaryAttack\n"
   ]
  },
  {
   "cell_type": "markdown",
   "metadata": {},
   "source": [
    "### Importing required packages"
   ]
  },
  {
   "cell_type": "code",
   "execution_count": 16,
   "metadata": {},
   "outputs": [],
   "source": [
    "from __future__ import absolute_import, division, print_function, unicode_literals\n",
    "\n",
    "from keras.models import Sequential\n",
    "from keras.layers import Dense, Flatten, Conv2D, MaxPooling2D, Activation, Dropout\n",
    "import numpy as np\n",
    "import tensorflow as tf\n",
    "\n",
    "\n",
    "from art.attacks import BoundaryAttack\n",
    "from art.classifiers import KerasClassifier, BlackBoxClassifier\n",
    "from art.utils import load_mnist\n",
    "\n",
    "tf.compat.v1.disable_eager_execution()"
   ]
  },
  {
   "cell_type": "markdown",
   "metadata": {},
   "source": [
    "### Load Dataset"
   ]
  },
  {
   "cell_type": "code",
   "execution_count": 17,
   "metadata": {},
   "outputs": [],
   "source": [
    "# Step 1: Load the MNIST dataset\n",
    "\n",
    "(x_train, y_train), (x_test, y_test), min_pixel_value, max_pixel_value = load_mnist()"
   ]
  },
  {
   "cell_type": "markdown",
   "metadata": {},
   "source": [
    "### Creating a sample model\n",
    "A sample model is used to demonstrate the use of ART library\n",
    "Model to be tested will be replaced here"
   ]
  },
  {
   "cell_type": "code",
   "execution_count": 18,
   "metadata": {},
   "outputs": [],
   "source": [
    "# Step 2: Create the model\n",
    "\n",
    "model = Sequential()\n",
    "\n",
    "model.add(Conv2D(4,5,padding='same',input_shape = [28, 28, 1]))\n",
    "model.add(Activation('relu'))\n",
    "model.add(MaxPooling2D(pool_size=(2, 2)))\n",
    "\n",
    "model.add(Conv2D(10,5, padding='same'))\n",
    "model.add(Activation('relu'))\n",
    "model.add(MaxPooling2D(pool_size=(2, 2)))\n",
    "\n",
    "model.add(Flatten())\n",
    "model.add(Dense(100))\n",
    "model.add(Activation('relu'))\n",
    "\n",
    "model.add(Dense(10))\n",
    "model.add(Activation('softmax'))\n",
    "\n",
    "model.compile(loss='categorical_crossentropy', optimizer='adam', metrics=['accuracy'])"
   ]
  },
  {
   "cell_type": "markdown",
   "metadata": {},
   "source": [
    "### Wrapping of ART classifier\n",
    "Wrapping is necessary to use ART functions"
   ]
  },
  {
   "cell_type": "code",
   "execution_count": 19,
   "metadata": {},
   "outputs": [
    {
     "name": "stdout",
     "output_type": "stream",
     "text": [
      "Epoch 1/10\n",
      "469/468 [==============================] - 5s 10ms/step - loss: 0.3697 - accuracy: 0.8914\n",
      "Epoch 2/10\n",
      "469/468 [==============================] - 5s 10ms/step - loss: 0.1059 - accuracy: 0.9683\n",
      "Epoch 3/10\n",
      "469/468 [==============================] - 5s 10ms/step - loss: 0.0739 - accuracy: 0.9768\n",
      "Epoch 4/10\n",
      "469/468 [==============================] - 5s 10ms/step - loss: 0.0567 - accuracy: 0.9821\n",
      "Epoch 5/10\n",
      "469/468 [==============================] - 5s 10ms/step - loss: 0.0458 - accuracy: 0.9854\n",
      "Epoch 6/10\n",
      "469/468 [==============================] - 5s 10ms/step - loss: 0.0393 - accuracy: 0.9874\n",
      "Epoch 7/10\n",
      "469/468 [==============================] - 5s 10ms/step - loss: 0.0327 - accuracy: 0.9895\n",
      "Epoch 8/10\n",
      "469/468 [==============================] - 5s 10ms/step - loss: 0.0281 - accuracy: 0.9908\n",
      "Epoch 9/10\n",
      "469/468 [==============================] - 5s 10ms/step - loss: 0.0245 - accuracy: 0.9925\n",
      "Epoch 10/10\n",
      "469/468 [==============================] - 5s 10ms/step - loss: 0.0217 - accuracy: 0.9928\n"
     ]
    }
   ],
   "source": [
    "# Step 3: wrap ART tf classifier\n",
    "classifier = KerasClassifier(model=model, clip_values=(min_pixel_value, max_pixel_value))\n",
    "classifier.fit(x_train, y_train, nb_epochs=10, batch_size=128)"
   ]
  },
  {
   "cell_type": "markdown",
   "metadata": {},
   "source": [
    "### Evaluating model based on original Dataset"
   ]
  },
  {
   "cell_type": "code",
   "execution_count": 30,
   "metadata": {},
   "outputs": [
    {
     "name": "stdout",
     "output_type": "stream",
     "text": [
      "Accuracy on benign test examples: 98.83999999999999%\n"
     ]
    }
   ],
   "source": [
    "# Step 5: Evaluate the ART classifier on benign test examples\n",
    "\n",
    "predictions = classifier.predict(x_test)\n",
    "accuracy = np.sum(np.argmax(predictions, axis=1) == np.argmax(y_test, axis=1)) / len(y_test)\n",
    "print('Accuracy on benign test examples: {}%'.format(accuracy * 100))"
   ]
  },
  {
   "cell_type": "markdown",
   "metadata": {},
   "source": [
    "### Creating Adversarial samples\n",
    "Using Boundary Attack\n",
    "- We will select a specific set of data from x_test and y_test as time taken to generate adversarial samples for all data from x_test is too long"
   ]
  },
  {
   "cell_type": "code",
   "execution_count": 51,
   "metadata": {},
   "outputs": [],
   "source": [
    "# Step 6: Generate adversarial test examples\n",
    "attack = BoundaryAttack(classifier)\n",
    "x_test_adv = attack.generate(x=x_test[200:201], y=y_test[200:201])"
   ]
  },
  {
   "cell_type": "markdown",
   "metadata": {},
   "source": [
    "### Evaluating model on adversarial samples"
   ]
  },
  {
   "cell_type": "code",
   "execution_count": 52,
   "metadata": {},
   "outputs": [
    {
     "name": "stdout",
     "output_type": "stream",
     "text": [
      "Accuracy on adversarial test examples: 10.100000000000001%\n"
     ]
    }
   ],
   "source": [
    "# Step 7: Evaluate the ART classifier on adversarial test examples\n",
    "\n",
    "predictions = classifier.predict(x_test_adv)\n",
    "accuracy = np.sum(np.argmax(predictions, axis=1) == np.argmax(y_test, axis=1)) / len(y_test)\n",
    "print('Accuracy on adversarial test examples: {}%'.format(accuracy * 100))"
   ]
  },
  {
   "cell_type": "markdown",
   "metadata": {},
   "source": [
    "### Evaluation results\n",
    "- Using accuracy as an evaluation metric, we can see that the sample model's performance dropped by a huge amount after going through adversarial samples.\n",
    "- Results is normal as sample model does not have defence against adversarial attacks\n"
   ]
  }
 ],
 "metadata": {
  "kernelspec": {
   "display_name": "Python 3",
   "language": "python",
   "name": "python3"
  },
  "language_info": {
   "codemirror_mode": {
    "name": "ipython",
    "version": 3
   },
   "file_extension": ".py",
   "mimetype": "text/x-python",
   "name": "python",
   "nbconvert_exporter": "python",
   "pygments_lexer": "ipython3",
   "version": "3.7.4"
  }
 },
 "nbformat": 4,
 "nbformat_minor": 4
}
