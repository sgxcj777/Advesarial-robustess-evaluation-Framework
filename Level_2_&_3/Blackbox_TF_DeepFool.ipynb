{
 "cells": [
  {
   "cell_type": "markdown",
   "metadata": {},
   "source": [
    "# Blackbox testing of robustness against DeepFool"
   ]
  },
  {
   "cell_type": "markdown",
   "metadata": {},
   "source": [
    "### Importing required packages"
   ]
  },
  {
   "cell_type": "code",
   "execution_count": 85,
   "metadata": {},
   "outputs": [],
   "source": [
    "from __future__ import absolute_import, division, print_function, unicode_literals\n",
    "\n",
    "from keras.models import Sequential\n",
    "from keras.layers import Dense, Flatten, Conv2D, MaxPooling2D, Activation, Dropout\n",
    "import numpy as np\n",
    "import tensorflow as tf\n",
    "\n",
    "\n",
    "from art.attacks import DeepFool\n",
    "from art.classifiers import KerasClassifier, BlackBoxClassifier\n",
    "from art.utils import load_mnist\n",
    "\n",
    "tf.compat.v1.disable_eager_execution()"
   ]
  },
  {
   "cell_type": "markdown",
   "metadata": {},
   "source": [
    "### Load Dataset"
   ]
  },
  {
   "cell_type": "code",
   "execution_count": 78,
   "metadata": {},
   "outputs": [],
   "source": [
    "# Step 1: Load the MNIST dataset\n",
    "\n",
    "(x_train, y_train), (x_test, y_test), min_pixel_value, max_pixel_value = load_mnist()"
   ]
  },
  {
   "cell_type": "markdown",
   "metadata": {},
   "source": [
    "### Creating a sample model\n",
    "A sample model is used to demonstrate the use of ART library\n",
    "Model to be tested will be replaced here"
   ]
  },
  {
   "cell_type": "code",
   "execution_count": 79,
   "metadata": {},
   "outputs": [],
   "source": [
    "# Step 2: Create the model\n",
    "\n",
    "model = Sequential()\n",
    "\n",
    "model.add(Conv2D(4,5,padding='same',input_shape = [28, 28, 1]))\n",
    "model.add(Activation('relu'))\n",
    "model.add(MaxPooling2D(pool_size=(2, 2)))\n",
    "\n",
    "model.add(Conv2D(10,5, padding='same'))\n",
    "model.add(Activation('relu'))\n",
    "model.add(MaxPooling2D(pool_size=(2, 2)))\n",
    "\n",
    "model.add(Flatten())\n",
    "model.add(Dense(100))\n",
    "model.add(Activation('relu'))\n",
    "\n",
    "model.add(Dense(10))\n",
    "model.add(Activation('softmax'))\n",
    "\n",
    "model.compile(loss='categorical_crossentropy', optimizer='adam', metrics=['accuracy'])"
   ]
  },
  {
   "cell_type": "markdown",
   "metadata": {},
   "source": [
    "### Wrapping of ART classifier\n",
    "Wrapping is necessary to use ART functions"
   ]
  },
  {
   "cell_type": "code",
   "execution_count": 80,
   "metadata": {},
   "outputs": [
    {
     "name": "stdout",
     "output_type": "stream",
     "text": [
      "Epoch 1/10\n",
      "469/468 [==============================] - 5s 12ms/step - loss: 0.3305 - accuracy: 0.9048\n",
      "Epoch 2/10\n",
      "469/468 [==============================] - 5s 11ms/step - loss: 0.0912 - accuracy: 0.9725\n",
      "Epoch 3/10\n",
      "469/468 [==============================] - 5s 11ms/step - loss: 0.0629 - accuracy: 0.9805\n",
      "Epoch 4/10\n",
      "469/468 [==============================] - 5s 12ms/step - loss: 0.0505 - accuracy: 0.9847\n",
      "Epoch 5/10\n",
      "469/468 [==============================] - 5s 11ms/step - loss: 0.0430 - accuracy: 0.9868\n",
      "Epoch 6/10\n",
      "469/468 [==============================] - 5s 11ms/step - loss: 0.0386 - accuracy: 0.9884\n",
      "Epoch 7/10\n",
      "469/468 [==============================] - 5s 11ms/step - loss: 0.0331 - accuracy: 0.9897\n",
      "Epoch 8/10\n",
      "469/468 [==============================] - 5s 11ms/step - loss: 0.0250 - accuracy: 0.9923\n",
      "Epoch 9/10\n",
      "469/468 [==============================] - 5s 11ms/step - loss: 0.0242 - accuracy: 0.9922\n",
      "Epoch 10/10\n",
      "469/468 [==============================] - 5s 11ms/step - loss: 0.0213 - accuracy: 0.9933\n"
     ]
    }
   ],
   "source": [
    "# Step 3: wrap ART tf classifier\n",
    "classifier = KerasClassifier(model=model, clip_values=(min_pixel_value, max_pixel_value))\n",
    "classifier.fit(x_train, y_train, nb_epochs=10, batch_size=128)"
   ]
  },
  {
   "cell_type": "markdown",
   "metadata": {},
   "source": [
    "### Black box environment\n",
    "in order to conduct evaluation under blackbox environment, we will wrap the model that is to be evaluated in a blackbox wrapper."
   ]
  },
  {
   "cell_type": "code",
   "execution_count": 81,
   "metadata": {},
   "outputs": [],
   "source": [
    "blackbox_classifier = BlackBoxClassifier(predict = classifier.predict, input_shape = [28, 28, 1], nb_classes = 10, clip_values=(min_pixel_value, max_pixel_value))"
   ]
  },
  {
   "cell_type": "markdown",
   "metadata": {},
   "source": [
    "### Evaluating model based on original Dataset"
   ]
  },
  {
   "cell_type": "code",
   "execution_count": 82,
   "metadata": {},
   "outputs": [
    {
     "name": "stdout",
     "output_type": "stream",
     "text": [
      "Accuracy on benign test examples: 98.91%\n"
     ]
    }
   ],
   "source": [
    "# Step 5: Evaluate the ART classifier on benign test examples\n",
    "\n",
    "predictions = blackbox_classifier.predict(x_test)\n",
    "accuracy = np.sum(np.argmax(predictions, axis=1) == np.argmax(y_test, axis=1)) / len(y_test)\n",
    "print('Accuracy on benign test examples: {}%'.format(accuracy * 100))"
   ]
  },
  {
   "cell_type": "markdown",
   "metadata": {},
   "source": [
    "### Creating a surrogate model to create adversarial samples"
   ]
  },
  {
   "cell_type": "code",
   "execution_count": 83,
   "metadata": {},
   "outputs": [],
   "source": [
    "# Step 6: create surrogate model\n",
    "\n",
    "surr_model = Sequential()\n",
    "\n",
    "surr_model.add(Conv2D(4,5,padding='same',input_shape = [28, 28, 1]))\n",
    "surr_model.add(Activation('relu'))\n",
    "surr_model.add(MaxPooling2D(pool_size=(2, 2)))\n",
    "\n",
    "surr_model.add(Flatten())\n",
    "surr_model.add(Dense(10))\n",
    "surr_model.add(Activation('softmax'))\n",
    "\n",
    "surr_model.compile(loss='categorical_crossentropy', optimizer='adam', metrics=['accuracy'])"
   ]
  },
  {
   "cell_type": "code",
   "execution_count": 84,
   "metadata": {},
   "outputs": [
    {
     "name": "stdout",
     "output_type": "stream",
     "text": [
      "Epoch 1/10\n",
      "469/468 [==============================] - 4s 9ms/step - loss: 0.5071 - accuracy: 0.8609\n",
      "Epoch 2/10\n",
      "469/468 [==============================] - 4s 8ms/step - loss: 0.1903 - accuracy: 0.9461\n",
      "Epoch 3/10\n",
      "469/468 [==============================] - 4s 8ms/step - loss: 0.1526 - accuracy: 0.9557\n",
      "Epoch 4/10\n",
      "469/468 [==============================] - 4s 8ms/step - loss: 0.1265 - accuracy: 0.9645\n",
      "Epoch 5/10\n",
      "469/468 [==============================] - 4s 8ms/step - loss: 0.1119 - accuracy: 0.9685\n",
      "Epoch 6/10\n",
      "469/468 [==============================] - 4s 8ms/step - loss: 0.0947 - accuracy: 0.9730\n",
      "Epoch 7/10\n",
      "469/468 [==============================] - 4s 8ms/step - loss: 0.0911 - accuracy: 0.9736\n",
      "Epoch 8/10\n",
      "469/468 [==============================] - 4s 8ms/step - loss: 0.0866 - accuracy: 0.9749\n",
      "Epoch 9/10\n",
      "469/468 [==============================] - 4s 8ms/step - loss: 0.0770 - accuracy: 0.9774\n",
      "Epoch 10/10\n",
      "469/468 [==============================] - 4s 8ms/step - loss: 0.0731 - accuracy: 0.9784\n"
     ]
    }
   ],
   "source": [
    "# step 6a: fit surrogate model\n",
    "surr_classifier = KerasClassifier(model=surr_model, clip_values=(min_pixel_value, max_pixel_value))\n",
    "surr_classifier.fit(x_train, y_train, nb_epochs=10, batch_size=128)"
   ]
  },
  {
   "cell_type": "markdown",
   "metadata": {},
   "source": [
    "### Creating Adversarial samples\n",
    "Using DeepFool"
   ]
  },
  {
   "cell_type": "code",
   "execution_count": 86,
   "metadata": {},
   "outputs": [],
   "source": [
    "# Step 6: Generate adversarial test examples\n",
    "attack = DeepFool(surr_classifier)\n",
    "x_test_adv = attack.generate(x=x_test)"
   ]
  },
  {
   "cell_type": "markdown",
   "metadata": {},
   "source": [
    "### Evaluating model on adversarial samples"
   ]
  },
  {
   "cell_type": "code",
   "execution_count": 87,
   "metadata": {},
   "outputs": [
    {
     "name": "stdout",
     "output_type": "stream",
     "text": [
      "Accuracy on adversarial test examples: 28.1%\n"
     ]
    }
   ],
   "source": [
    "# Step 7: Evaluate the ART classifier on adversarial test examples\n",
    "\n",
    "predictions = blackbox_classifier.predict(x_test_adv)\n",
    "accuracy = np.sum(np.argmax(predictions, axis=1) == np.argmax(y_test, axis=1)) / len(y_test)\n",
    "print('Accuracy on adversarial test examples: {}%'.format(accuracy * 100))"
   ]
  },
  {
   "cell_type": "markdown",
   "metadata": {},
   "source": [
    "### Evaluation results\n",
    "- Using accuracy as an evaluation metric, we can see that the sample model's performance dropped by a huge amount after going through adversarial samples.\n",
    "- Results is normal as sample model does not have defence against adversarial attacks\n",
    "- note that adversarial samples are constructed using surrogate model, and the actual model to be tested is not used to create adversarial samples\n"
   ]
  }
 ],
 "metadata": {
  "kernelspec": {
   "display_name": "Python 3",
   "language": "python",
   "name": "python3"
  },
  "language_info": {
   "codemirror_mode": {
    "name": "ipython",
    "version": 3
   },
   "file_extension": ".py",
   "mimetype": "text/x-python",
   "name": "python",
   "nbconvert_exporter": "python",
   "pygments_lexer": "ipython3",
   "version": "3.7.4"
  }
 },
 "nbformat": 4,
 "nbformat_minor": 4
}
