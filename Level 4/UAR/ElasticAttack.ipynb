{
 "cells": [
  {
   "cell_type": "code",
   "execution_count": 14,
   "metadata": {},
   "outputs": [],
   "source": [
    "from Attacks.elastic_attack import ElasticAttack\n",
    "import functools\n",
    "import SampleDatasets.cifar10_resnet\n",
    "import torchvision\n",
    "import torchvision.transforms as transforms\n",
    "import matplotlib.pyplot as plt\n",
    "import numpy as np"
   ]
  },
  {
   "cell_type": "code",
   "execution_count": 15,
   "metadata": {},
   "outputs": [],
   "source": [
    "def get_cifar10_model(resnet_size):\n",
    "    size_to_model = {\n",
    "        20: cifar10_resnet.resnet20,\n",
    "        32: cifar10_resnet.resnet32,\n",
    "        44: cifar10_resnet.resnet44,\n",
    "        56: cifar10_resnet.resnet56,\n",
    "        110: cifar10_resnet.resnet110,\n",
    "    }\n",
    "    model = size_to_model[resnet_size]()\n",
    "    return model"
   ]
  },
  {
   "cell_type": "code",
   "execution_count": 16,
   "metadata": {},
   "outputs": [],
   "source": [
    "model = get_cifar10_model(20)"
   ]
  },
  {
   "cell_type": "code",
   "execution_count": 17,
   "metadata": {},
   "outputs": [],
   "source": [
    "n_iters = 5\n",
    "eps = 2\n",
    "step_size = 1\n",
    "resol = 32\n",
    "scale_each = False\n",
    "\n",
    "attack = ElasticAttack(n_iters, eps,\n",
    "                                 step_size, resol, scale_each=scale_each)"
   ]
  },
  {
   "cell_type": "code",
   "execution_count": 18,
   "metadata": {},
   "outputs": [
    {
     "name": "stderr",
     "output_type": "stream",
     "text": [
      "\n",
      "0it [00:00, ?it/s]\u001b[A"
     ]
    },
    {
     "name": "stdout",
     "output_type": "stream",
     "text": [
      "Downloading https://www.cs.toronto.edu/~kriz/cifar-10-python.tar.gz to ./data/cifar-10-python.tar.gz\n"
     ]
    },
    {
     "name": "stderr",
     "output_type": "stream",
     "text": [
      "\n",
      "  0%|          | 0/170498071 [00:00<?, ?it/s]\u001b[A\n",
      "  0%|          | 8192/170498071 [00:01<1:22:39, 34378.30it/s]\u001b[A\n",
      "  0%|          | 40960/170498071 [00:01<1:04:06, 44317.53it/s]\u001b[A\n",
      "  0%|          | 106496/170498071 [00:01<47:57, 59212.83it/s] \u001b[A\n",
      "  0%|          | 221184/170498071 [00:01<35:19, 80355.03it/s]\u001b[A\n",
      "  0%|          | 450560/170498071 [00:02<25:34, 110824.38it/s]\u001b[A\n",
      "  1%|          | 876544/170498071 [00:02<18:20, 154168.71it/s]\u001b[A\n",
      "  1%|          | 1761280/170498071 [00:02<12:59, 216418.70it/s]\u001b[A\n",
      "  2%|▏         | 3530752/170498071 [00:02<09:06, 305350.15it/s]\u001b[A\n",
      "  4%|▍         | 6610944/170498071 [00:03<06:19, 431650.60it/s]\u001b[A\n",
      "  6%|▌         | 9740288/170498071 [00:03<04:24, 608057.55it/s]\u001b[A\n",
      "  8%|▊         | 12886016/170498071 [00:03<03:05, 851587.46it/s]\u001b[A\n",
      "  9%|▉         | 15671296/170498071 [00:03<02:11, 1179130.00it/s]\u001b[A\n",
      " 11%|█         | 18800640/170498071 [00:04<01:33, 1621854.37it/s]\u001b[A\n",
      " 13%|█▎        | 21946368/170498071 [00:04<01:07, 2199170.68it/s]\u001b[A\n",
      " 15%|█▍        | 25075712/170498071 [00:04<00:49, 2930815.28it/s]\u001b[A\n",
      " 16%|█▋        | 27844608/170498071 [00:04<00:37, 3770595.36it/s]\u001b[A\n",
      " 18%|█▊        | 30973952/170498071 [00:05<00:29, 4787800.30it/s]\u001b[A\n",
      " 20%|██        | 34103296/170498071 [00:05<00:23, 5925235.29it/s]\u001b[A\n",
      " 22%|██▏       | 37249024/170498071 [00:05<00:18, 7063913.97it/s]\u001b[A\n",
      " 24%|██▎       | 40378368/170498071 [00:05<00:15, 8215299.79it/s]\u001b[A\n",
      " 26%|██▌       | 43524096/170498071 [00:06<00:13, 9209564.00it/s]\u001b[A\n",
      " 27%|██▋       | 46358528/170498071 [00:06<00:12, 9830750.87it/s]\u001b[A\n",
      " 29%|██▉       | 49504256/170498071 [00:06<00:11, 10596024.40it/s]\u001b[A\n",
      " 31%|███       | 52633600/170498071 [00:06<00:10, 11288200.68it/s]\u001b[A\n",
      " 33%|███▎      | 55779328/170498071 [00:06<00:09, 11701437.25it/s]\u001b[A\n",
      " 35%|███▍      | 58908672/170498071 [00:07<00:09, 12124238.19it/s]\u001b[A\n",
      " 36%|███▌      | 61710336/170498071 [00:07<00:09, 11891934.05it/s]\u001b[A\n",
      " 38%|███▊      | 64856064/170498071 [00:07<00:08, 12203355.47it/s]\u001b[A\n",
      " 40%|███▉      | 67969024/170498071 [00:07<00:08, 12489239.95it/s]\u001b[A\n",
      " 42%|████▏     | 71114752/170498071 [00:08<00:07, 12625990.35it/s]\u001b[A\n",
      " 44%|████▎     | 74244096/170498071 [00:08<00:07, 12825790.61it/s]\u001b[A\n",
      " 45%|████▌     | 77389824/170498071 [00:08<00:07, 12818928.53it/s]\u001b[A\n",
      " 47%|████▋     | 80519168/170498071 [00:08<00:06, 12950286.78it/s]\u001b[A\n",
      " 49%|████▉     | 83320832/170498071 [00:09<00:07, 12422333.78it/s]\u001b[A\n",
      " 51%|█████     | 86433792/170498071 [00:09<00:05, 14591512.54it/s]\u001b[A\n",
      " 52%|█████▏    | 88055808/170498071 [00:09<00:06, 13534234.89it/s]\u001b[A\n",
      " 53%|█████▎    | 89563136/170498071 [00:09<00:05, 13896065.09it/s]\u001b[A\n",
      " 53%|█████▎    | 91045888/170498071 [00:09<00:06, 12820750.09it/s]\u001b[A\n",
      " 54%|█████▍    | 92676096/170498071 [00:09<00:05, 13609334.12it/s]\u001b[A\n",
      " 55%|█████▌    | 94109696/170498071 [00:09<00:06, 12482567.62it/s]\u001b[A\n",
      " 56%|█████▌    | 95772672/170498071 [00:10<00:05, 13424394.86it/s]\u001b[A\n",
      " 57%|█████▋    | 97181696/170498071 [00:10<00:06, 12168501.75it/s]\u001b[A\n",
      " 58%|█████▊    | 98902016/170498071 [00:10<00:05, 13319442.94it/s]\u001b[A\n",
      " 59%|█████▉    | 100319232/170498071 [00:10<00:05, 12094861.68it/s]\u001b[A\n",
      " 60%|█████▉    | 102064128/170498071 [00:10<00:06, 10778523.09it/s]\u001b[A\n",
      " 62%|██████▏   | 105111552/170498071 [00:10<00:05, 12868519.00it/s]\u001b[A\n",
      " 63%|██████▎   | 106635264/170498071 [00:10<00:05, 11800905.02it/s]\u001b[A\n",
      " 64%|██████▎   | 108290048/170498071 [00:11<00:05, 10592005.67it/s]\u001b[A\n",
      " 65%|██████▍   | 110747648/170498071 [00:11<00:04, 12115196.70it/s]\u001b[A\n",
      " 66%|██████▌   | 112140288/170498071 [00:11<00:05, 11496630.79it/s]\u001b[A\n",
      " 67%|██████▋   | 113860608/170498071 [00:11<00:04, 12667880.63it/s]\u001b[A\n",
      " 68%|██████▊   | 115261440/170498071 [00:11<00:04, 11779680.79it/s]\u001b[A\n",
      " 69%|██████▊   | 116908032/170498071 [00:11<00:04, 12636710.69it/s]\u001b[A\n",
      " 69%|██████▉   | 118267904/170498071 [00:11<00:04, 12149645.25it/s]\u001b[A\n",
      " 70%|███████   | 120020992/170498071 [00:11<00:03, 12885764.20it/s]\u001b[A\n",
      " 71%|███████   | 121372672/170498071 [00:12<00:03, 12291784.49it/s]\u001b[A\n",
      " 72%|███████▏  | 123117568/170498071 [00:12<00:03, 12979150.29it/s]\u001b[A\n",
      " 73%|███████▎  | 124461056/170498071 [00:12<00:03, 12343040.37it/s]\u001b[A\n",
      " 74%|███████▍  | 126230528/170498071 [00:12<00:03, 13050315.85it/s]\u001b[A\n",
      " 75%|███████▍  | 127574016/170498071 [00:12<00:03, 12370078.50it/s]\u001b[A\n",
      " 76%|███████▌  | 129343488/170498071 [00:12<00:03, 13089048.88it/s]\u001b[A\n",
      " 77%|███████▋  | 130686976/170498071 [00:12<00:03, 12254841.28it/s]\u001b[A\n",
      " 78%|███████▊  | 132407296/170498071 [00:12<00:02, 13013456.84it/s]\u001b[A\n",
      " 78%|███████▊  | 133750784/170498071 [00:13<00:03, 12095558.14it/s]\u001b[A\n",
      " 80%|███████▉  | 135553024/170498071 [00:13<00:02, 13010125.38it/s]\u001b[A\n",
      " 80%|████████  | 136904704/170498071 [00:13<00:02, 12122675.56it/s]\u001b[A\n",
      " 81%|████████▏ | 138665984/170498071 [00:13<00:02, 13218876.01it/s]\u001b[A\n",
      " 82%|████████▏ | 140050432/170498071 [00:13<00:02, 11529147.03it/s]\u001b[A\n",
      " 83%|████████▎ | 141844480/170498071 [00:13<00:02, 12137715.40it/s]\u001b[A\n",
      " 84%|████████▍ | 143130624/170498071 [00:13<00:02, 11894932.53it/s]\u001b[A\n",
      " 85%|████████▌ | 144957440/170498071 [00:13<00:02, 12586422.31it/s]\u001b[A\n",
      " 86%|████████▌ | 146259968/170498071 [00:14<00:02, 11995054.52it/s]\u001b[A\n",
      " 87%|████████▋ | 147873792/170498071 [00:14<00:02, 11000357.95it/s]\u001b[A\n",
      " 89%|████████▊ | 150937600/170498071 [00:14<00:01, 13617764.80it/s]\u001b[A\n",
      " 90%|████████▉ | 152657920/170498071 [00:14<00:01, 11372500.27it/s]\u001b[A\n",
      " 90%|█████████ | 154116096/170498071 [00:14<00:01, 10392214.35it/s]\u001b[A\n",
      " 92%|█████████▏| 157171712/170498071 [00:14<00:01, 12957006.58it/s]\u001b[A\n",
      " 93%|█████████▎| 158982144/170498071 [00:14<00:01, 11018620.24it/s]\u001b[A\n",
      " 94%|█████████▍| 160497664/170498071 [00:15<00:00, 10213006.97it/s]\u001b[A\n",
      " 96%|█████████▌| 163454976/170498071 [00:15<00:00, 12293867.96it/s]\u001b[A\n",
      " 97%|█████████▋| 165085184/170498071 [00:15<00:00, 11411663.04it/s]\u001b[A\n",
      " 98%|█████████▊| 166584320/170498071 [00:15<00:00, 10554085.08it/s]\u001b[A\n",
      " 99%|█████████▉| 168878080/170498071 [00:15<00:00, 12582837.70it/s]\u001b[A\n",
      "100%|█████████▉| 170459136/170498071 [00:15<00:00, 10648970.32it/s]\u001b[A"
     ]
    },
    {
     "name": "stdout",
     "output_type": "stream",
     "text": [
      "Extracting ./data/cifar-10-python.tar.gz to ./data\n"
     ]
    },
    {
     "ename": "RuntimeError",
     "evalue": "grid_sampler(): expected input and grid to be on same device, but input is on cpu and grid is on cuda:0",
     "output_type": "error",
     "traceback": [
      "\u001b[0;31m---------------------------------------------------------------------------\u001b[0m",
      "\u001b[0;31mRuntimeError\u001b[0m                              Traceback (most recent call last)",
      "\u001b[0;32m<ipython-input-18-1bd7edd1f297>\u001b[0m in \u001b[0;36m<module>\u001b[0;34m\u001b[0m\n\u001b[1;32m     11\u001b[0m \u001b[0mimages\u001b[0m\u001b[0;34m,\u001b[0m \u001b[0mlabels\u001b[0m \u001b[0;34m=\u001b[0m \u001b[0mdataset\u001b[0m\u001b[0;34m.\u001b[0m\u001b[0m__next__\u001b[0m\u001b[0;34m(\u001b[0m\u001b[0;34m)\u001b[0m\u001b[0;34m\u001b[0m\u001b[0;34m\u001b[0m\u001b[0m\n\u001b[1;32m     12\u001b[0m attack.forward(model, images, rand_target,\n\u001b[0;32m---> 13\u001b[0;31m        avoid_target=False, scale_eps=False)\n\u001b[0m",
      "\u001b[0;32m~/UAR/attacks.py\u001b[0m in \u001b[0;36mforward\u001b[0;34m(self, model, img, *args, **kwargs)\u001b[0m\n",
      "\u001b[0;32m~/UAR/Attacks/elastic_attack.py\u001b[0m in \u001b[0;36m_forward\u001b[0;34m(self, pixel_model, pixel_img, target, scale_eps, avoid_target)\u001b[0m\n\u001b[1;32m     66\u001b[0m \u001b[0;34m\u001b[0m\u001b[0m\n\u001b[1;32m     67\u001b[0m         \u001b[0mflow\u001b[0m \u001b[0;34m=\u001b[0m \u001b[0mself\u001b[0m\u001b[0;34m.\u001b[0m\u001b[0m_init\u001b[0m\u001b[0;34m(\u001b[0m\u001b[0mpixel_img\u001b[0m\u001b[0;34m.\u001b[0m\u001b[0msize\u001b[0m\u001b[0;34m(\u001b[0m\u001b[0;34m)\u001b[0m\u001b[0;34m[\u001b[0m\u001b[0;36m0\u001b[0m\u001b[0;34m]\u001b[0m\u001b[0;34m,\u001b[0m \u001b[0mbase_eps\u001b[0m\u001b[0;34m)\u001b[0m\u001b[0;34m\u001b[0m\u001b[0;34m\u001b[0m\u001b[0m\n\u001b[0;32m---> 68\u001b[0;31m         \u001b[0mpixel_inp_adv\u001b[0m \u001b[0;34m=\u001b[0m \u001b[0mself\u001b[0m\u001b[0;34m.\u001b[0m\u001b[0mdeformer\u001b[0m\u001b[0;34m(\u001b[0m\u001b[0mpixel_inp\u001b[0m\u001b[0;34m,\u001b[0m \u001b[0mflow\u001b[0m\u001b[0;34m)\u001b[0m\u001b[0;34m\u001b[0m\u001b[0;34m\u001b[0m\u001b[0m\n\u001b[0m\u001b[1;32m     69\u001b[0m \u001b[0;34m\u001b[0m\u001b[0m\n\u001b[1;32m     70\u001b[0m         \u001b[0;32mif\u001b[0m \u001b[0mself\u001b[0m\u001b[0;34m.\u001b[0m\u001b[0mnb_its\u001b[0m \u001b[0;34m>\u001b[0m \u001b[0;36m0\u001b[0m\u001b[0;34m:\u001b[0m\u001b[0;34m\u001b[0m\u001b[0;34m\u001b[0m\u001b[0m\n",
      "\u001b[0;32m~/.local/lib/python3.7/site-packages/torch/nn/modules/module.py\u001b[0m in \u001b[0;36m__call__\u001b[0;34m(self, *input, **kwargs)\u001b[0m\n\u001b[1;32m    539\u001b[0m             \u001b[0mresult\u001b[0m \u001b[0;34m=\u001b[0m \u001b[0mself\u001b[0m\u001b[0;34m.\u001b[0m\u001b[0m_slow_forward\u001b[0m\u001b[0;34m(\u001b[0m\u001b[0;34m*\u001b[0m\u001b[0minput\u001b[0m\u001b[0;34m,\u001b[0m \u001b[0;34m**\u001b[0m\u001b[0mkwargs\u001b[0m\u001b[0;34m)\u001b[0m\u001b[0;34m\u001b[0m\u001b[0;34m\u001b[0m\u001b[0m\n\u001b[1;32m    540\u001b[0m         \u001b[0;32melse\u001b[0m\u001b[0;34m:\u001b[0m\u001b[0;34m\u001b[0m\u001b[0;34m\u001b[0m\u001b[0m\n\u001b[0;32m--> 541\u001b[0;31m             \u001b[0mresult\u001b[0m \u001b[0;34m=\u001b[0m \u001b[0mself\u001b[0m\u001b[0;34m.\u001b[0m\u001b[0mforward\u001b[0m\u001b[0;34m(\u001b[0m\u001b[0;34m*\u001b[0m\u001b[0minput\u001b[0m\u001b[0;34m,\u001b[0m \u001b[0;34m**\u001b[0m\u001b[0mkwargs\u001b[0m\u001b[0;34m)\u001b[0m\u001b[0;34m\u001b[0m\u001b[0;34m\u001b[0m\u001b[0m\n\u001b[0m\u001b[1;32m    542\u001b[0m         \u001b[0;32mfor\u001b[0m \u001b[0mhook\u001b[0m \u001b[0;32min\u001b[0m \u001b[0mself\u001b[0m\u001b[0;34m.\u001b[0m\u001b[0m_forward_hooks\u001b[0m\u001b[0;34m.\u001b[0m\u001b[0mvalues\u001b[0m\u001b[0;34m(\u001b[0m\u001b[0;34m)\u001b[0m\u001b[0;34m:\u001b[0m\u001b[0;34m\u001b[0m\u001b[0;34m\u001b[0m\u001b[0m\n\u001b[1;32m    543\u001b[0m             \u001b[0mhook_result\u001b[0m \u001b[0;34m=\u001b[0m \u001b[0mhook\u001b[0m\u001b[0;34m(\u001b[0m\u001b[0mself\u001b[0m\u001b[0;34m,\u001b[0m \u001b[0minput\u001b[0m\u001b[0;34m,\u001b[0m \u001b[0mresult\u001b[0m\u001b[0;34m)\u001b[0m\u001b[0;34m\u001b[0m\u001b[0;34m\u001b[0m\u001b[0m\n",
      "\u001b[0;32m~/UAR/elastic.py\u001b[0m in \u001b[0;36mforward\u001b[0;34m(self, im, params)\u001b[0m\n",
      "\u001b[0;32m~/UAR/elastic.py\u001b[0m in \u001b[0;36mwarp\u001b[0;34m(self, im, flow)\u001b[0m\n",
      "\u001b[0;32m~/.local/lib/python3.7/site-packages/torch/nn/functional.py\u001b[0m in \u001b[0;36mgrid_sample\u001b[0;34m(input, grid, mode, padding_mode, align_corners)\u001b[0m\n\u001b[1;32m   2696\u001b[0m         \u001b[0malign_corners\u001b[0m \u001b[0;34m=\u001b[0m \u001b[0;32mTrue\u001b[0m\u001b[0;34m\u001b[0m\u001b[0;34m\u001b[0m\u001b[0m\n\u001b[1;32m   2697\u001b[0m \u001b[0;34m\u001b[0m\u001b[0m\n\u001b[0;32m-> 2698\u001b[0;31m     \u001b[0;32mreturn\u001b[0m \u001b[0mtorch\u001b[0m\u001b[0;34m.\u001b[0m\u001b[0mgrid_sampler\u001b[0m\u001b[0;34m(\u001b[0m\u001b[0minput\u001b[0m\u001b[0;34m,\u001b[0m \u001b[0mgrid\u001b[0m\u001b[0;34m,\u001b[0m \u001b[0mmode_enum\u001b[0m\u001b[0;34m,\u001b[0m \u001b[0mpadding_mode_enum\u001b[0m\u001b[0;34m,\u001b[0m \u001b[0malign_corners\u001b[0m\u001b[0;34m)\u001b[0m\u001b[0;34m\u001b[0m\u001b[0;34m\u001b[0m\u001b[0m\n\u001b[0m\u001b[1;32m   2699\u001b[0m \u001b[0;34m\u001b[0m\u001b[0m\n\u001b[1;32m   2700\u001b[0m \u001b[0;34m\u001b[0m\u001b[0m\n",
      "\u001b[0;31mRuntimeError\u001b[0m: grid_sampler(): expected input and grid to be on same device, but input is on cpu and grid is on cuda:0"
     ]
    },
    {
     "name": "stderr",
     "output_type": "stream",
     "text": [
      "\n",
      "170500096it [00:26, 10648970.32it/s]                               \u001b[A"
     ]
    }
   ],
   "source": [
    "rand_target = 1\n",
    "\n",
    "transform = transforms.Compose(\n",
    "    [transforms.ToTensor(),\n",
    "     transforms.Normalize((0.5, 0.5, 0.5), (0.5, 0.5, 0.5))])\n",
    "\n",
    "trainset = torchvision.datasets.CIFAR10(root='./data', train=True,\n",
    "                                        download=True, transform=transform)\n",
    "data = trainset\n",
    "dataset = iter(data)\n",
    "images, labels = dataset.__next__()\n",
    "attack.forward(model, images, rand_target,\n",
    "       avoid_target=False, scale_eps=False)"
   ]
  },
  {
   "cell_type": "code",
   "execution_count": null,
   "metadata": {},
   "outputs": [],
   "source": []
  }
 ],
 "metadata": {
  "kernelspec": {
   "display_name": "Python 3",
   "language": "python",
   "name": "python3"
  },
  "language_info": {
   "codemirror_mode": {
    "name": "ipython",
    "version": 3
   },
   "file_extension": ".py",
   "mimetype": "text/x-python",
   "name": "python",
   "nbconvert_exporter": "python",
   "pygments_lexer": "ipython3",
   "version": "3.7.4"
  }
 },
 "nbformat": 4,
 "nbformat_minor": 4
}
